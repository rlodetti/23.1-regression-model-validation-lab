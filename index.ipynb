{
 "cells": [
  {
   "cell_type": "markdown",
   "metadata": {},
   "source": [
    "# Regression Model Validation - Lab\n",
    "\n",
    "## Introduction\n",
    "\n",
    "In this lab, you'll be able to validate your Ames Housing data model using a train-test split.\n",
    "\n",
    "## Objectives\n",
    "\n",
    "You will be able to:\n",
    "\n",
    "* Perform a train-test split\n",
    "* Prepare training and testing data for modeling\n",
    "* Compare training and testing errors to determine if model is over or underfitting"
   ]
  },
  {
   "cell_type": "markdown",
   "metadata": {},
   "source": [
    "## Let's Use Our Ames Housing Data Again!\n",
    "\n",
    "We included the code to load the data below."
   ]
  },
  {
   "cell_type": "code",
   "execution_count": 28,
   "metadata": {
    "ExecuteTime": {
     "end_time": "2023-07-17T15:25:21.920002Z",
     "start_time": "2023-07-17T15:25:21.874218Z"
    }
   },
   "outputs": [
    {
     "name": "stdout",
     "output_type": "stream",
     "text": [
      "<class 'pandas.core.frame.DataFrame'>\n",
      "Int64Index: 1460 entries, 1 to 1460\n",
      "Data columns (total 80 columns):\n",
      " #   Column         Non-Null Count  Dtype  \n",
      "---  ------         --------------  -----  \n",
      " 0   MSSubClass     1460 non-null   int64  \n",
      " 1   MSZoning       1460 non-null   object \n",
      " 2   LotFrontage    1201 non-null   float64\n",
      " 3   LotArea        1460 non-null   int64  \n",
      " 4   Street         1460 non-null   object \n",
      " 5   Alley          91 non-null     object \n",
      " 6   LotShape       1460 non-null   object \n",
      " 7   LandContour    1460 non-null   object \n",
      " 8   Utilities      1460 non-null   object \n",
      " 9   LotConfig      1460 non-null   object \n",
      " 10  LandSlope      1460 non-null   object \n",
      " 11  Neighborhood   1460 non-null   object \n",
      " 12  Condition1     1460 non-null   object \n",
      " 13  Condition2     1460 non-null   object \n",
      " 14  BldgType       1460 non-null   object \n",
      " 15  HouseStyle     1460 non-null   object \n",
      " 16  OverallQual    1460 non-null   int64  \n",
      " 17  OverallCond    1460 non-null   int64  \n",
      " 18  YearBuilt      1460 non-null   int64  \n",
      " 19  YearRemodAdd   1460 non-null   int64  \n",
      " 20  RoofStyle      1460 non-null   object \n",
      " 21  RoofMatl       1460 non-null   object \n",
      " 22  Exterior1st    1460 non-null   object \n",
      " 23  Exterior2nd    1460 non-null   object \n",
      " 24  MasVnrType     1452 non-null   object \n",
      " 25  MasVnrArea     1452 non-null   float64\n",
      " 26  ExterQual      1460 non-null   object \n",
      " 27  ExterCond      1460 non-null   object \n",
      " 28  Foundation     1460 non-null   object \n",
      " 29  BsmtQual       1423 non-null   object \n",
      " 30  BsmtCond       1423 non-null   object \n",
      " 31  BsmtExposure   1422 non-null   object \n",
      " 32  BsmtFinType1   1423 non-null   object \n",
      " 33  BsmtFinSF1     1460 non-null   int64  \n",
      " 34  BsmtFinType2   1422 non-null   object \n",
      " 35  BsmtFinSF2     1460 non-null   int64  \n",
      " 36  BsmtUnfSF      1460 non-null   int64  \n",
      " 37  TotalBsmtSF    1460 non-null   int64  \n",
      " 38  Heating        1460 non-null   object \n",
      " 39  HeatingQC      1460 non-null   object \n",
      " 40  CentralAir     1460 non-null   object \n",
      " 41  Electrical     1459 non-null   object \n",
      " 42  1stFlrSF       1460 non-null   int64  \n",
      " 43  2ndFlrSF       1460 non-null   int64  \n",
      " 44  LowQualFinSF   1460 non-null   int64  \n",
      " 45  GrLivArea      1460 non-null   int64  \n",
      " 46  BsmtFullBath   1460 non-null   int64  \n",
      " 47  BsmtHalfBath   1460 non-null   int64  \n",
      " 48  FullBath       1460 non-null   int64  \n",
      " 49  HalfBath       1460 non-null   int64  \n",
      " 50  BedroomAbvGr   1460 non-null   int64  \n",
      " 51  KitchenAbvGr   1460 non-null   int64  \n",
      " 52  KitchenQual    1460 non-null   object \n",
      " 53  TotRmsAbvGrd   1460 non-null   int64  \n",
      " 54  Functional     1460 non-null   object \n",
      " 55  Fireplaces     1460 non-null   int64  \n",
      " 56  FireplaceQu    770 non-null    object \n",
      " 57  GarageType     1379 non-null   object \n",
      " 58  GarageYrBlt    1379 non-null   float64\n",
      " 59  GarageFinish   1379 non-null   object \n",
      " 60  GarageCars     1460 non-null   int64  \n",
      " 61  GarageArea     1460 non-null   int64  \n",
      " 62  GarageQual     1379 non-null   object \n",
      " 63  GarageCond     1379 non-null   object \n",
      " 64  PavedDrive     1460 non-null   object \n",
      " 65  WoodDeckSF     1460 non-null   int64  \n",
      " 66  OpenPorchSF    1460 non-null   int64  \n",
      " 67  EnclosedPorch  1460 non-null   int64  \n",
      " 68  3SsnPorch      1460 non-null   int64  \n",
      " 69  ScreenPorch    1460 non-null   int64  \n",
      " 70  PoolArea       1460 non-null   int64  \n",
      " 71  PoolQC         7 non-null      object \n",
      " 72  Fence          281 non-null    object \n",
      " 73  MiscFeature    54 non-null     object \n",
      " 74  MiscVal        1460 non-null   int64  \n",
      " 75  MoSold         1460 non-null   int64  \n",
      " 76  YrSold         1460 non-null   int64  \n",
      " 77  SaleType       1460 non-null   object \n",
      " 78  SaleCondition  1460 non-null   object \n",
      " 79  SalePrice      1460 non-null   int64  \n",
      "dtypes: float64(3), int64(34), object(43)\n",
      "memory usage: 923.9+ KB\n"
     ]
    }
   ],
   "source": [
    "# Run this cell without changes\n",
    "import pandas as pd\n",
    "import numpy as np\n",
    "ames = pd.read_csv('ames.csv', index_col=0)\n",
    "ames.info()"
   ]
  },
  {
   "cell_type": "markdown",
   "metadata": {},
   "source": [
    "## Perform a Train-Test Split\n",
    "\n",
    "Use `train_test_split` ([documentation here](https://scikit-learn.org/stable/modules/generated/sklearn.model_selection.train_test_split.html)) with the default split size. At the end you should have `X_train`, `X_test`, `y_train`, and `y_test` variables, where `y` represents `SalePrice` and `X` represents all other columns."
   ]
  },
  {
   "cell_type": "code",
   "execution_count": 20,
   "metadata": {
    "ExecuteTime": {
     "end_time": "2023-07-17T15:20:39.020249Z",
     "start_time": "2023-07-17T15:20:39.010682Z"
    }
   },
   "outputs": [],
   "source": [
    "# Your code here: split the data into training and test sets\n",
    "from sklearn.model_selection import train_test_split\n",
    "y = ames[['SalePrice']]\n",
    "X = ames.drop(['SalePrice'], axis=1)\n",
    "X_train, X_test, y_train, y_test = train_test_split(X, y,random_state=61012)\n"
   ]
  },
  {
   "cell_type": "markdown",
   "metadata": {},
   "source": [
    "## Prepare Both Sets for Modeling\n",
    "\n",
    "This code is completed for you and should work as long as the correct variables were created."
   ]
  },
  {
   "cell_type": "code",
   "execution_count": 21,
   "metadata": {
    "ExecuteTime": {
     "end_time": "2023-07-17T15:20:41.425038Z",
     "start_time": "2023-07-17T15:20:41.393162Z"
    }
   },
   "outputs": [],
   "source": [
    "# Run this cell without changes\n",
    "from sklearn.preprocessing import FunctionTransformer, OneHotEncoder\n",
    "\n",
    "continuous = ['LotArea', '1stFlrSF', 'GrLivArea']\n",
    "categoricals = ['BldgType', 'KitchenQual', 'Street']\n",
    "\n",
    "# Instantiate transformers\n",
    "log_transformer = FunctionTransformer(np.log, validate=True)\n",
    "ohe = OneHotEncoder(drop='first', sparse=False)\n",
    "\n",
    "# Fit transformers\n",
    "log_transformer.fit(X_train[continuous])\n",
    "ohe.fit(X_train[categoricals])\n",
    "\n",
    "# Transform training data\n",
    "X_train = pd.concat([\n",
    "    pd.DataFrame(log_transformer.transform(X_train[continuous]), index=X_train.index),\n",
    "    pd.DataFrame(ohe.transform(X_train[categoricals]), index=X_train.index)\n",
    "], axis=1)\n",
    "\n",
    "# Transform test data\n",
    "X_test = pd.concat([\n",
    "    pd.DataFrame(log_transformer.transform(X_test[continuous]), index=X_test.index),\n",
    "    pd.DataFrame(ohe.transform(X_test[categoricals]), index=X_test.index)\n",
    "], axis=1)"
   ]
  },
  {
   "cell_type": "code",
   "execution_count": 22,
   "metadata": {
    "ExecuteTime": {
     "end_time": "2023-07-17T15:20:50.140106Z",
     "start_time": "2023-07-17T15:20:50.114788Z"
    }
   },
   "outputs": [
    {
     "data": {
      "text/html": [
       "<div>\n",
       "<style scoped>\n",
       "    .dataframe tbody tr th:only-of-type {\n",
       "        vertical-align: middle;\n",
       "    }\n",
       "\n",
       "    .dataframe tbody tr th {\n",
       "        vertical-align: top;\n",
       "    }\n",
       "\n",
       "    .dataframe thead th {\n",
       "        text-align: right;\n",
       "    }\n",
       "</style>\n",
       "<table border=\"1\" class=\"dataframe\">\n",
       "  <thead>\n",
       "    <tr style=\"text-align: right;\">\n",
       "      <th></th>\n",
       "      <th>0</th>\n",
       "      <th>1</th>\n",
       "      <th>2</th>\n",
       "      <th>0</th>\n",
       "      <th>1</th>\n",
       "      <th>2</th>\n",
       "      <th>3</th>\n",
       "      <th>4</th>\n",
       "      <th>5</th>\n",
       "      <th>6</th>\n",
       "      <th>7</th>\n",
       "    </tr>\n",
       "    <tr>\n",
       "      <th>Id</th>\n",
       "      <th></th>\n",
       "      <th></th>\n",
       "      <th></th>\n",
       "      <th></th>\n",
       "      <th></th>\n",
       "      <th></th>\n",
       "      <th></th>\n",
       "      <th></th>\n",
       "      <th></th>\n",
       "      <th></th>\n",
       "      <th></th>\n",
       "    </tr>\n",
       "  </thead>\n",
       "  <tbody>\n",
       "    <tr>\n",
       "      <th>1160</th>\n",
       "      <td>9.118225</td>\n",
       "      <td>6.849066</td>\n",
       "      <td>7.536897</td>\n",
       "      <td>0.0</td>\n",
       "      <td>0.0</td>\n",
       "      <td>0.0</td>\n",
       "      <td>0.0</td>\n",
       "      <td>0.0</td>\n",
       "      <td>1.0</td>\n",
       "      <td>0.0</td>\n",
       "      <td>1.0</td>\n",
       "    </tr>\n",
       "    <tr>\n",
       "      <th>1266</th>\n",
       "      <td>8.225503</td>\n",
       "      <td>6.569481</td>\n",
       "      <td>7.280697</td>\n",
       "      <td>0.0</td>\n",
       "      <td>0.0</td>\n",
       "      <td>0.0</td>\n",
       "      <td>1.0</td>\n",
       "      <td>0.0</td>\n",
       "      <td>1.0</td>\n",
       "      <td>0.0</td>\n",
       "      <td>1.0</td>\n",
       "    </tr>\n",
       "    <tr>\n",
       "      <th>746</th>\n",
       "      <td>9.100860</td>\n",
       "      <td>7.069023</td>\n",
       "      <td>7.906547</td>\n",
       "      <td>0.0</td>\n",
       "      <td>0.0</td>\n",
       "      <td>0.0</td>\n",
       "      <td>0.0</td>\n",
       "      <td>0.0</td>\n",
       "      <td>1.0</td>\n",
       "      <td>0.0</td>\n",
       "      <td>1.0</td>\n",
       "    </tr>\n",
       "    <tr>\n",
       "      <th>164</th>\n",
       "      <td>8.612503</td>\n",
       "      <td>6.782192</td>\n",
       "      <td>6.782192</td>\n",
       "      <td>0.0</td>\n",
       "      <td>0.0</td>\n",
       "      <td>0.0</td>\n",
       "      <td>0.0</td>\n",
       "      <td>0.0</td>\n",
       "      <td>0.0</td>\n",
       "      <td>1.0</td>\n",
       "      <td>1.0</td>\n",
       "    </tr>\n",
       "    <tr>\n",
       "      <th>1320</th>\n",
       "      <td>9.231613</td>\n",
       "      <td>6.854355</td>\n",
       "      <td>6.854355</td>\n",
       "      <td>0.0</td>\n",
       "      <td>0.0</td>\n",
       "      <td>0.0</td>\n",
       "      <td>0.0</td>\n",
       "      <td>0.0</td>\n",
       "      <td>0.0</td>\n",
       "      <td>1.0</td>\n",
       "      <td>1.0</td>\n",
       "    </tr>\n",
       "  </tbody>\n",
       "</table>\n",
       "</div>"
      ],
      "text/plain": [
       "             0         1         2    0    1    2    3    4    5    6    7\n",
       "Id                                                                        \n",
       "1160  9.118225  6.849066  7.536897  0.0  0.0  0.0  0.0  0.0  1.0  0.0  1.0\n",
       "1266  8.225503  6.569481  7.280697  0.0  0.0  0.0  1.0  0.0  1.0  0.0  1.0\n",
       "746   9.100860  7.069023  7.906547  0.0  0.0  0.0  0.0  0.0  1.0  0.0  1.0\n",
       "164   8.612503  6.782192  6.782192  0.0  0.0  0.0  0.0  0.0  0.0  1.0  1.0\n",
       "1320  9.231613  6.854355  6.854355  0.0  0.0  0.0  0.0  0.0  0.0  1.0  1.0"
      ]
     },
     "execution_count": 22,
     "metadata": {},
     "output_type": "execute_result"
    }
   ],
   "source": [
    "X_test.head()"
   ]
  },
  {
   "cell_type": "markdown",
   "metadata": {},
   "source": [
    "## Fit a Linear Regression on the Training Data"
   ]
  },
  {
   "cell_type": "code",
   "execution_count": 5,
   "metadata": {
    "ExecuteTime": {
     "end_time": "2023-07-17T14:47:19.862282Z",
     "start_time": "2023-07-17T14:47:19.762592Z"
    }
   },
   "outputs": [],
   "source": [
    "# Your code here: import the linear regression model class, initialize a model\n",
    "from sklearn.linear_model import LinearRegression\n",
    "linreg = LinearRegression()"
   ]
  },
  {
   "cell_type": "code",
   "execution_count": 6,
   "metadata": {
    "ExecuteTime": {
     "end_time": "2023-07-17T14:47:43.046483Z",
     "start_time": "2023-07-17T14:47:43.013965Z"
    }
   },
   "outputs": [
    {
     "data": {
      "text/plain": [
       "LinearRegression()"
      ]
     },
     "execution_count": 6,
     "metadata": {},
     "output_type": "execute_result"
    }
   ],
   "source": [
    "# Your code here: fit the model to train data\n",
    "linreg.fit(X_train, y_train)"
   ]
  },
  {
   "cell_type": "markdown",
   "metadata": {},
   "source": [
    "## Evaluate and Validate Model\n",
    "\n",
    "### Generate Predictions on Training and Test Sets"
   ]
  },
  {
   "cell_type": "code",
   "execution_count": 8,
   "metadata": {
    "ExecuteTime": {
     "end_time": "2023-07-17T14:51:12.737428Z",
     "start_time": "2023-07-17T14:51:12.725805Z"
    }
   },
   "outputs": [],
   "source": [
    "# Your code here: generate predictions for both sets\n",
    "y_hat_train = linreg.predict(X_train)\n",
    "y_hat_test = linreg.predict(X_test)"
   ]
  },
  {
   "cell_type": "markdown",
   "metadata": {},
   "source": [
    "### Calculate the Mean Squared Error (MSE)\n",
    "\n",
    "You can use `mean_squared_error` from scikit-learn ([documentation here](https://scikit-learn.org/stable/modules/generated/sklearn.metrics.mean_squared_error.html))."
   ]
  },
  {
   "cell_type": "code",
   "execution_count": 9,
   "metadata": {
    "ExecuteTime": {
     "end_time": "2023-07-17T14:52:13.289529Z",
     "start_time": "2023-07-17T14:52:13.279254Z"
    }
   },
   "outputs": [
    {
     "name": "stdout",
     "output_type": "stream",
     "text": [
      "Train MSE:1701560285.0155766\n",
      "Test MSE:2209819410.937776\n"
     ]
    }
   ],
   "source": [
    "# Your code here: calculate training and test MSE\n",
    "from sklearn.metrics import mean_squared_error\n",
    "\n",
    "mse_train = mean_squared_error(y_train, y_hat_train)\n",
    "mse_test = mean_squared_error(y_test, y_hat_test)\n",
    "\n",
    "print(f'Train MSE:{mse_train}')\n",
    "print(f'Test MSE:{mse_test}')"
   ]
  },
  {
   "cell_type": "markdown",
   "metadata": {},
   "source": [
    "If your test error is substantially worse than the train error, this is a sign that the model doesn't generalize well to future cases."
   ]
  },
  {
   "cell_type": "markdown",
   "metadata": {},
   "source": [
    "One simple way to demonstrate overfitting and underfitting is to alter the size of our train-test split. By default, scikit-learn allocates 25% of the data to the test set and 75% to the training set. Fitting a model on only 10% of the data is apt to lead to underfitting, while training a model on 99% of the data is apt to lead to overfitting."
   ]
  },
  {
   "cell_type": "code",
   "execution_count": 39,
   "metadata": {
    "ExecuteTime": {
     "end_time": "2023-07-17T15:35:48.688151Z",
     "start_time": "2023-07-17T15:35:48.650054Z"
    }
   },
   "outputs": [
    {
     "data": {
      "text/html": [
       "<div>\n",
       "<style scoped>\n",
       "    .dataframe tbody tr th:only-of-type {\n",
       "        vertical-align: middle;\n",
       "    }\n",
       "\n",
       "    .dataframe tbody tr th {\n",
       "        vertical-align: top;\n",
       "    }\n",
       "\n",
       "    .dataframe thead th {\n",
       "        text-align: right;\n",
       "    }\n",
       "</style>\n",
       "<table border=\"1\" class=\"dataframe\">\n",
       "  <thead>\n",
       "    <tr style=\"text-align: right;\">\n",
       "      <th></th>\n",
       "      <th>SalePrice</th>\n",
       "      <th>LotArea</th>\n",
       "      <th>1stFlrSF</th>\n",
       "      <th>GrLivArea</th>\n",
       "      <th>BldgType</th>\n",
       "      <th>KitchenQual</th>\n",
       "      <th>Street</th>\n",
       "    </tr>\n",
       "    <tr>\n",
       "      <th>Id</th>\n",
       "      <th></th>\n",
       "      <th></th>\n",
       "      <th></th>\n",
       "      <th></th>\n",
       "      <th></th>\n",
       "      <th></th>\n",
       "      <th></th>\n",
       "    </tr>\n",
       "  </thead>\n",
       "  <tbody>\n",
       "    <tr>\n",
       "      <th>1</th>\n",
       "      <td>208500</td>\n",
       "      <td>8450</td>\n",
       "      <td>856</td>\n",
       "      <td>1710</td>\n",
       "      <td>1Fam</td>\n",
       "      <td>Gd</td>\n",
       "      <td>Pave</td>\n",
       "    </tr>\n",
       "    <tr>\n",
       "      <th>2</th>\n",
       "      <td>181500</td>\n",
       "      <td>9600</td>\n",
       "      <td>1262</td>\n",
       "      <td>1262</td>\n",
       "      <td>1Fam</td>\n",
       "      <td>TA</td>\n",
       "      <td>Pave</td>\n",
       "    </tr>\n",
       "    <tr>\n",
       "      <th>3</th>\n",
       "      <td>223500</td>\n",
       "      <td>11250</td>\n",
       "      <td>920</td>\n",
       "      <td>1786</td>\n",
       "      <td>1Fam</td>\n",
       "      <td>Gd</td>\n",
       "      <td>Pave</td>\n",
       "    </tr>\n",
       "    <tr>\n",
       "      <th>4</th>\n",
       "      <td>140000</td>\n",
       "      <td>9550</td>\n",
       "      <td>961</td>\n",
       "      <td>1717</td>\n",
       "      <td>1Fam</td>\n",
       "      <td>Gd</td>\n",
       "      <td>Pave</td>\n",
       "    </tr>\n",
       "    <tr>\n",
       "      <th>5</th>\n",
       "      <td>250000</td>\n",
       "      <td>14260</td>\n",
       "      <td>1145</td>\n",
       "      <td>2198</td>\n",
       "      <td>1Fam</td>\n",
       "      <td>Gd</td>\n",
       "      <td>Pave</td>\n",
       "    </tr>\n",
       "  </tbody>\n",
       "</table>\n",
       "</div>"
      ],
      "text/plain": [
       "    SalePrice  LotArea  1stFlrSF  GrLivArea BldgType KitchenQual Street\n",
       "Id                                                                     \n",
       "1      208500     8450       856       1710     1Fam          Gd   Pave\n",
       "2      181500     9600      1262       1262     1Fam          TA   Pave\n",
       "3      223500    11250       920       1786     1Fam          Gd   Pave\n",
       "4      140000     9550       961       1717     1Fam          Gd   Pave\n",
       "5      250000    14260      1145       2198     1Fam          Gd   Pave"
      ]
     },
     "execution_count": 39,
     "metadata": {},
     "output_type": "execute_result"
    }
   ],
   "source": [
    "ames = pd.read_csv('ames.csv', index_col=0)[['SalePrice','LotArea', '1stFlrSF', 'GrLivArea','BldgType', 'KitchenQual', 'Street']]\n",
    "ames.head()"
   ]
  },
  {
   "cell_type": "markdown",
   "metadata": {},
   "source": [
    "## Level Up: Evaluate the Effect of Train-Test Split Size\n",
    "\n",
    "Iterate over a range of train-test split sizes from .5 to .9. For each of these, generate a new train/test split sample. Preprocess both sets of data. Fit a model to the training sample and calculate both the training error and the test error (MSE) for each of these splits. Plot these two curves (train error vs. training size and test error vs. training size) on a graph."
   ]
  },
  {
   "cell_type": "code",
   "execution_count": 53,
   "metadata": {
    "ExecuteTime": {
     "end_time": "2023-07-17T15:53:42.779768Z",
     "start_time": "2023-07-17T15:53:42.316491Z"
    },
    "scrolled": true
   },
   "outputs": [
    {
     "data": {
      "image/png": "[encoded data removed]",
      "text/plain": [
       "<Figure size 432x288 with 1 Axes>"
      ]
     },
     "metadata": {
      "needs_background": "light"
     },
     "output_type": "display_data"
    }
   ],
   "source": [
    "from sklearn.model_selection import train_test_split\n",
    "from sklearn.preprocessing import FunctionTransformer, OneHotEncoder\n",
    "from sklearn.linear_model import LinearRegression\n",
    "from sklearn.metrics import mean_squared_error\n",
    "import matplotlib.pyplot as plt\n",
    "\n",
    "error_v_size = []\n",
    "ames = pd.read_csv('ames.csv', index_col=0)[[\n",
    "    'SalePrice', 'LotArea', '1stFlrSF', 'GrLivArea', 'BldgType', 'KitchenQual',\n",
    "    'Street'\n",
    "]]\n",
    "y = ames[['SalePrice']]\n",
    "X = ames.drop(['SalePrice'], axis=1)\n",
    "continuous = ['LotArea', '1stFlrSF', 'GrLivArea']\n",
    "categoricals = ['BldgType', 'KitchenQual', 'Street']\n",
    "for size in np.linspace(0.5, 0.9,10):\n",
    "    # Set up Train-Test based on test_size\n",
    "    X_train, X_test, y_train, y_test = train_test_split(X,\n",
    "                                                        y,\n",
    "                                                        test_size=size,\n",
    "                                                        random_state=42)\n",
    "    # Preprocess both sets of data.\n",
    "    log_transformer = FunctionTransformer(np.log, validate=True)\n",
    "    ohe = OneHotEncoder(drop='first', sparse=False)\n",
    "    log_transformer.fit(X_train[continuous])\n",
    "    ohe.fit(X_train[categoricals])\n",
    "    X_train = pd.concat([\n",
    "        pd.DataFrame(log_transformer.transform(X_train[continuous]),\n",
    "                     index=X_train.index),\n",
    "        pd.DataFrame(ohe.transform(X_train[categoricals]), index=X_train.index)\n",
    "    ],\n",
    "                        axis=1)\n",
    "    X_test = pd.concat([\n",
    "        pd.DataFrame(log_transformer.transform(X_test[continuous]),\n",
    "                     index=X_test.index),\n",
    "        pd.DataFrame(ohe.transform(X_test[categoricals]), index=X_test.index)\n",
    "    ],\n",
    "                       axis=1)\n",
    "    # Fit a model to the training sample\n",
    "    linreg = LinearRegression()\n",
    "    linreg.fit(X_train, y_train)\n",
    "    # Calculate both the training error and the test error (MSE) for each of these splits.\n",
    "    y_hat_train = linreg.predict(X_train)\n",
    "    y_hat_test = linreg.predict(X_test)\n",
    "    mse_train = mean_squared_error(y_train, y_hat_train)\n",
    "    mse_test = mean_squared_error(y_test, y_hat_test)\n",
    "    error_v_size.append([mse_train, mse_test, len(X_train)])\n",
    "\n",
    "# Plot these two curves (train error vs. training size and test error vs. training size) on a graph.\n",
    "df = pd.DataFrame(error_v_size,\n",
    "                  columns=['mse_train', 'mse_test', 'training_size'])\n",
    "\n",
    "fig, ax = plt.subplots()\n",
    "ax.scatter(df['training_size'], df['mse_train'], color='tab:blue', label='Training')\n",
    "ax.scatter(df['training_size'], df['mse_test'], color='tab:orange', label='Test')\n",
    "ax.legend()\n",
    "plt.show()"
   ]
  },
  {
   "cell_type": "markdown",
   "metadata": {},
   "source": [
    "### Extension\n",
    "\n",
    "Repeat the previous example, but for each train-test split size, generate 10 iterations of models/errors and save the average train/test error. This will help account for any particularly good/bad models that might have resulted from poor/good splits in the data. "
   ]
  },
  {
   "cell_type": "code",
   "execution_count": 54,
   "metadata": {
    "ExecuteTime": {
     "end_time": "2023-07-17T15:54:12.938190Z",
     "start_time": "2023-07-17T15:54:10.106060Z"
    }
   },
   "outputs": [
    {
     "data": {
      "image/png": "[encoded data removed]",
      "text/plain": [
       "<Figure size 432x288 with 1 Axes>"
      ]
     },
     "metadata": {
      "needs_background": "light"
     },
     "output_type": "display_data"
    }
   ],
   "source": [
    "error_v_size = []\n",
    "ames = pd.read_csv('ames.csv', index_col=0)[[\n",
    "    'SalePrice', 'LotArea', '1stFlrSF', 'GrLivArea', 'BldgType', 'KitchenQual',\n",
    "    'Street'\n",
    "]]\n",
    "y = ames[['SalePrice']]\n",
    "X = ames.drop(['SalePrice'], axis=1)\n",
    "continuous = ['LotArea', '1stFlrSF', 'GrLivArea']\n",
    "categoricals = ['BldgType', 'KitchenQual', 'Street']\n",
    "for size in np.linspace(0.5, 0.9,10):\n",
    "    for loop in range(10):\n",
    "        train_mses = []\n",
    "        test_mses = []\n",
    "    \n",
    "        # Set up Train-Test based on test_size\n",
    "        X_train, X_test, y_train, y_test = train_test_split(X,\n",
    "                                                            y,\n",
    "                                                            test_size=size,\n",
    "                                                            random_state=42)\n",
    "        # Preprocess both sets of data.\n",
    "        log_transformer = FunctionTransformer(np.log, validate=True)\n",
    "        ohe = OneHotEncoder(drop='first', sparse=False)\n",
    "        log_transformer.fit(X_train[continuous])\n",
    "        ohe.fit(X_train[categoricals])\n",
    "        X_train = pd.concat([\n",
    "            pd.DataFrame(log_transformer.transform(X_train[continuous]),\n",
    "                         index=X_train.index),\n",
    "            pd.DataFrame(ohe.transform(X_train[categoricals]), index=X_train.index)\n",
    "        ],\n",
    "                            axis=1)\n",
    "        X_test = pd.concat([\n",
    "            pd.DataFrame(log_transformer.transform(X_test[continuous]),\n",
    "                         index=X_test.index),\n",
    "            pd.DataFrame(ohe.transform(X_test[categoricals]), index=X_test.index)\n",
    "        ],\n",
    "                           axis=1)\n",
    "        # Fit a model to the training sample\n",
    "        linreg = LinearRegression()\n",
    "        linreg.fit(X_train, y_train)\n",
    "        # Calculate both the training error and the test error (MSE) for each of these splits.\n",
    "        y_hat_train = linreg.predict(X_train)\n",
    "        y_hat_test = linreg.predict(X_test)\n",
    "        mse_train = mean_squared_error(y_train, y_hat_train)\n",
    "        mse_test = mean_squared_error(y_test, y_hat_test)\n",
    "        train_mses.append(mse_train)\n",
    "        test_mses.append(mse_test)\n",
    "    train_avg = np.array(train_mses).mean()\n",
    "    test_avg = np.array(test_mses).mean()  \n",
    "    error_v_size.append([train_avg, test_avg, len(X_train)])\n",
    "\n",
    "# Plot these two curves (train error vs. training size and test error vs. training size) on a graph.\n",
    "df = pd.DataFrame(error_v_size,\n",
    "                  columns=['mse_train', 'mse_test', 'training_size'])\n",
    "\n",
    "fig, ax = plt.subplots()\n",
    "ax.scatter(df['training_size'], df['mse_train'], color='tab:blue', label='Training')\n",
    "ax.scatter(df['training_size'], df['mse_test'], color='tab:orange', label='Test')\n",
    "ax.legend()\n",
    "plt.show()"
   ]
  },
  {
   "cell_type": "markdown",
   "metadata": {},
   "source": [
    "What's happening here? Evaluate your result!"
   ]
  },
  {
   "cell_type": "markdown",
   "metadata": {},
   "source": [
    "##  Summary "
   ]
  },
  {
   "cell_type": "markdown",
   "metadata": {},
   "source": [
    "Congratulations! You now practiced your knowledge of MSE and used your train-test split skills to validate your model."
   ]
  }
 ],
 "metadata": {
  "kernelspec": {
   "display_name": "Python (learn-env3)",
   "language": "python",
   "name": "learn-env3"
  },
  "language_info": {
   "codemirror_mode": {
    "name": "ipython",
    "version": 3
   },
   "file_extension": ".py",
   "mimetype": "text/x-python",
   "name": "python",
   "nbconvert_exporter": "python",
   "pygments_lexer": "ipython3",
   "version": "3.8.5"
  }
 },
 "nbformat": 4,
 "nbformat_minor": 2
}
